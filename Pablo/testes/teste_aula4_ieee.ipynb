{
 "cells": [
  {
   "cell_type": "code",
   "execution_count": 1,
   "id": "6535efbd",
   "metadata": {},
   "outputs": [],
   "source": [
    "import requests\n",
    "import pandas as pd\n",
    "import json\n",
    "from config.config import *\n",
    "from library import * "
   ]
  },
  {
   "cell_type": "code",
   "execution_count": 2,
   "id": "68fe0ec1",
   "metadata": {},
   "outputs": [],
   "source": [
    "api = config[\"api\"][0] + \"&apikey=\" + config[\"apikey\"][0]\n",
    "api1 = \"http://ieeexploreapi.ieee.org/api/v1/search/articles?apikey=z34aqfzkvu36wg248cx2cf8z&format=json&max_records=25&start_record=1&sort_order=asc&sort_field=article_number&abstract=bigdata\"\n",
    "res = requests.get(api1)"
   ]
  },
  {
   "cell_type": "code",
   "execution_count": null,
   "id": "69f8d185",
   "metadata": {},
   "outputs": [],
   "source": [
    "for item in dados_ieee[\"articles\"]:\n",
    "    item"
   ]
  },
  {
   "cell_type": "code",
   "execution_count": 63,
   "id": "cad7a1e4",
   "metadata": {},
   "outputs": [
    {
     "data": {
      "text/html": [
       "<div>\n",
       "<style scoped>\n",
       "    .dataframe tbody tr th:only-of-type {\n",
       "        vertical-align: middle;\n",
       "    }\n",
       "\n",
       "    .dataframe tbody tr th {\n",
       "        vertical-align: top;\n",
       "    }\n",
       "\n",
       "    .dataframe thead th {\n",
       "        text-align: right;\n",
       "    }\n",
       "</style>\n",
       "<table border=\"1\" class=\"dataframe\">\n",
       "  <thead>\n",
       "    <tr style=\"text-align: right;\">\n",
       "      <th></th>\n",
       "      <th>doi</th>\n",
       "      <th>title</th>\n",
       "      <th>publisher</th>\n",
       "      <th>isbn</th>\n",
       "      <th>partnum</th>\n",
       "      <th>rank</th>\n",
       "      <th>authors</th>\n",
       "      <th>access_type</th>\n",
       "      <th>content_type</th>\n",
       "      <th>abstract</th>\n",
       "      <th>...</th>\n",
       "      <th>publication_year</th>\n",
       "      <th>publication_date</th>\n",
       "      <th>start_page</th>\n",
       "      <th>end_page</th>\n",
       "      <th>citing_paper_count</th>\n",
       "      <th>citing_patent_count</th>\n",
       "      <th>index_terms</th>\n",
       "      <th>isbn_formats</th>\n",
       "      <th>issn</th>\n",
       "      <th>volume</th>\n",
       "    </tr>\n",
       "  </thead>\n",
       "  <tbody>\n",
       "    <tr>\n",
       "      <th>0</th>\n",
       "      <td>10.1109/ICCIS.2012.97</td>\n",
       "      <td>CAAC: A Key-Value Database Performance Boostin...</td>\n",
       "      <td>IEEE</td>\n",
       "      <td>978-0-7695-4789-3</td>\n",
       "      <td>12PR4789</td>\n",
       "      <td>1</td>\n",
       "      <td>{'authors': [{'affiliation': 'Nat. Univ. of De...</td>\n",
       "      <td>LOCKED</td>\n",
       "      <td>Conferences</td>\n",
       "      <td>NoSQL database is deemed as an ideal substitut...</td>\n",
       "      <td>...</td>\n",
       "      <td>2012</td>\n",
       "      <td>17-19 Aug. 2012</td>\n",
       "      <td>437</td>\n",
       "      <td>440</td>\n",
       "      <td>2</td>\n",
       "      <td>0</td>\n",
       "      <td>{'ieee_terms': {'terms': ['Databases', 'Accele...</td>\n",
       "      <td>{'isbns': [{'format': 'CD', 'value': '978-0-76...</td>\n",
       "      <td>NaN</td>\n",
       "      <td>NaN</td>\n",
       "    </tr>\n",
       "    <tr>\n",
       "      <th>1</th>\n",
       "      <td>10.1109/IRI.2012.6302976</td>\n",
       "      <td>Panel: Using information re-use and integratio...</td>\n",
       "      <td>IEEE</td>\n",
       "      <td>978-1-4673-2283-6</td>\n",
       "      <td>12EX4806</td>\n",
       "      <td>2</td>\n",
       "      <td>{'authors': [{'affiliation': 'San Diego State ...</td>\n",
       "      <td>EPHEMERA</td>\n",
       "      <td>Conferences</td>\n",
       "      <td>More advanced and complex applications in soci...</td>\n",
       "      <td>...</td>\n",
       "      <td>2012</td>\n",
       "      <td>8-10 Aug. 2012</td>\n",
       "      <td>xxvi</td>\n",
       "      <td>xxvi</td>\n",
       "      <td>0</td>\n",
       "      <td>0</td>\n",
       "      <td>{}</td>\n",
       "      <td>{'isbns': [{'format': 'Online ISBN', 'value': ...</td>\n",
       "      <td>NaN</td>\n",
       "      <td>NaN</td>\n",
       "    </tr>\n",
       "  </tbody>\n",
       "</table>\n",
       "<p>2 rows × 29 columns</p>\n",
       "</div>"
      ],
      "text/plain": [
       "                        doi  \\\n",
       "0     10.1109/ICCIS.2012.97   \n",
       "1  10.1109/IRI.2012.6302976   \n",
       "\n",
       "                                               title publisher  \\\n",
       "0  CAAC: A Key-Value Database Performance Boostin...      IEEE   \n",
       "1  Panel: Using information re-use and integratio...      IEEE   \n",
       "\n",
       "                isbn   partnum  rank  \\\n",
       "0  978-0-7695-4789-3  12PR4789     1   \n",
       "1  978-1-4673-2283-6  12EX4806     2   \n",
       "\n",
       "                                             authors access_type content_type  \\\n",
       "0  {'authors': [{'affiliation': 'Nat. Univ. of De...      LOCKED  Conferences   \n",
       "1  {'authors': [{'affiliation': 'San Diego State ...    EPHEMERA  Conferences   \n",
       "\n",
       "                                            abstract  ... publication_year  \\\n",
       "0  NoSQL database is deemed as an ideal substitut...  ...             2012   \n",
       "1  More advanced and complex applications in soci...  ...             2012   \n",
       "\n",
       "  publication_date start_page end_page citing_paper_count citing_patent_count  \\\n",
       "0  17-19 Aug. 2012        437      440                  2                   0   \n",
       "1   8-10 Aug. 2012       xxvi     xxvi                  0                   0   \n",
       "\n",
       "                                         index_terms  \\\n",
       "0  {'ieee_terms': {'terms': ['Databases', 'Accele...   \n",
       "1                                                 {}   \n",
       "\n",
       "                                        isbn_formats  issn  volume  \n",
       "0  {'isbns': [{'format': 'CD', 'value': '978-0-76...   NaN     NaN  \n",
       "1  {'isbns': [{'format': 'Online ISBN', 'value': ...   NaN     NaN  \n",
       "\n",
       "[2 rows x 29 columns]"
      ]
     },
     "execution_count": 63,
     "metadata": {},
     "output_type": "execute_result"
    }
   ],
   "source": [
    "#if res.status_code == 200:\n",
    "dados_ieee = res.json()\n",
    "df_articles = pd.DataFrame(dados_ieee[\"articles\"])\n",
    "df_articles.head(2)"
   ]
  },
  {
   "cell_type": "code",
   "execution_count": 64,
   "id": "af5c906b",
   "metadata": {},
   "outputs": [
    {
     "data": {
      "text/html": [
       "<div>\n",
       "<style scoped>\n",
       "    .dataframe tbody tr th:only-of-type {\n",
       "        vertical-align: middle;\n",
       "    }\n",
       "\n",
       "    .dataframe tbody tr th {\n",
       "        vertical-align: top;\n",
       "    }\n",
       "\n",
       "    .dataframe thead th {\n",
       "        text-align: right;\n",
       "    }\n",
       "</style>\n",
       "<table border=\"1\" class=\"dataframe\">\n",
       "  <thead>\n",
       "    <tr style=\"text-align: right;\">\n",
       "      <th></th>\n",
       "      <th>author</th>\n",
       "      <th>title</th>\n",
       "      <th>keywords</th>\n",
       "      <th>abstract</th>\n",
       "      <th>year</th>\n",
       "      <th>type_publication</th>\n",
       "      <th>doi</th>\n",
       "    </tr>\n",
       "  </thead>\n",
       "  <tbody>\n",
       "    <tr>\n",
       "      <th>0</th>\n",
       "      <td>{'authors': [{'affiliation': 'Nat. Univ. of De...</td>\n",
       "      <td>CAAC: A Key-Value Database Performance Boostin...</td>\n",
       "      <td>{'ieee_terms': {'terms': ['Databases', 'Accele...</td>\n",
       "      <td>NoSQL database is deemed as an ideal substitut...</td>\n",
       "      <td>2012</td>\n",
       "      <td>Conferences</td>\n",
       "      <td>10.1109/ICCIS.2012.97</td>\n",
       "    </tr>\n",
       "    <tr>\n",
       "      <th>1</th>\n",
       "      <td>{'authors': [{'affiliation': 'San Diego State ...</td>\n",
       "      <td>Panel: Using information re-use and integratio...</td>\n",
       "      <td>{}</td>\n",
       "      <td>More advanced and complex applications in soci...</td>\n",
       "      <td>2012</td>\n",
       "      <td>Conferences</td>\n",
       "      <td>10.1109/IRI.2012.6302976</td>\n",
       "    </tr>\n",
       "  </tbody>\n",
       "</table>\n",
       "</div>"
      ],
      "text/plain": [
       "                                              author  \\\n",
       "0  {'authors': [{'affiliation': 'Nat. Univ. of De...   \n",
       "1  {'authors': [{'affiliation': 'San Diego State ...   \n",
       "\n",
       "                                               title  \\\n",
       "0  CAAC: A Key-Value Database Performance Boostin...   \n",
       "1  Panel: Using information re-use and integratio...   \n",
       "\n",
       "                                            keywords  \\\n",
       "0  {'ieee_terms': {'terms': ['Databases', 'Accele...   \n",
       "1                                                 {}   \n",
       "\n",
       "                                            abstract  year type_publication  \\\n",
       "0  NoSQL database is deemed as an ideal substitut...  2012      Conferences   \n",
       "1  More advanced and complex applications in soci...  2012      Conferences   \n",
       "\n",
       "                        doi  \n",
       "0     10.1109/ICCIS.2012.97  \n",
       "1  10.1109/IRI.2012.6302976  "
      ]
     },
     "execution_count": 64,
     "metadata": {},
     "output_type": "execute_result"
    }
   ],
   "source": [
    "new_df = select_col(df_articles, columns_aula4)\n",
    "new_df.head(2)\n",
    "  "
   ]
  },
  {
   "cell_type": "code",
   "execution_count": 65,
   "id": "698e425e",
   "metadata": {},
   "outputs": [
    {
     "name": "stdout",
     "output_type": "stream",
     "text": [
      "['Databases, Acceleration, Compaction, Servers, Correlation, Instruction sets, Optimization, NoSQL database, Data structure, Accelerating Algorithm', '', 'Collaboration, Speech, Europe, Companies, Educational institutions, Abstracts', 'Privacy, Noise, Data privacy, Sensitivity, Access control, Usability, Cloud Computing, Privacy, Security, Randomization, Static Code Analysis', 'Virtual machining, Cloud computing, Bandwidth, Network topology, Topology, Data transfer, Scheduling algorithms, Data Transfer, SLA, Optimization, IaaS, Cloud Computing, Scheduling', 'Medical diagnostic imaging, Mobile handsets, Diseases, Hospitals, Communities, Software tools, Portable Clinic, Personal Health Records (PHR), Remote Health Consultancy, BigData, CDSS (Clinical Decision Support System)', 'Sleep apnea, Feature extraction, Biomedical monitoring, Predictive models, Wireless communication, Gaussian processes, Biomedical telemetry, Nonlinear systems, Sleep apnea, Gaussian mixture model, Nonlinear dynamical systems, Biomedical telemetry', 'Medical diagnostic imaging, Mobile handsets, Diseases, Hospitals, Software tools, Communities', 'Benchmark testing, Servers, Hardware, Throughput, Bandwidth, Data processing, Acceleration, MapReduce, Benchmark, Hardware offload, Many-core processor', 'Encoding, Table lookup, Data stream, Compression, Hardware, Big data, FPGA, Content adressable memory', 'Image registration, Medical diagnostic imaging, Lungs, Image retrieval, Cancer, Design automation, Based Image Retrieval, Grid Computing, BigData, Computer-Aided Diagnosis', 'Cloud computing, Servers, Databases, Data analysis, Educational institutions, Algorithm design and analysis, Data mining, Cloud, Cloud-Storage, BigData, Map-Reduce, Clusters', 'Cloud computing, Optimization, IP networks, Computational modeling, Computers, HTML, Cloud Based Distribution, Cloud Algorithms, Cloud Computing, Cloud Storage, Optimization', 'Support vector machines, Adaptive optics, Optical devices, Optical fibers, Optical interferometry, Kernel, fiber optic gyroscope, product quality control, error correction, SVM, Monte Carlo', 'Big data, Pragmatics, Data models, Training, Data mining, Uncertainty, Accuracy', 'Routing, Throughput, Fabrics, Uplink, Load modeling, Analytical models, Delays', 'Big data, Memory management, File systems, Monitoring, Distributed databases, Cloud computing, Benchmark testing, SLOTS_MILLIS_MAPS, HDFS, MapReduce, Name Node, Secondary NameNode, Data Node, SLOTS_MILLIS_REDUCES', 'Virtualization, Benchmark testing, Servers, Bandwidth, Virtual machine monitors, Performance evaluation, Degradation, Hadoop, Virtualization, SSD, BigData, Cloud computing', 'Benchmark testing, Big data, Decision support systems, Databases, Business, Throughput, Computers, Benchmarking, Decision Support Systems, Big Data, YCSB, TPC-H', 'Wireless sensor networks, Monitoring, Storms, Big data, Real-time systems, Method of moments, Arduino; Big Data; Hadoop; Stream Processing;', 'Big data, Data visualization, Data models, Geospatial analysis, Parallel processing, Sensors, Big Data, GIS, High Performance Computing, Steam Processing, NoSQL', 'Visualization, Solid modeling, Brain modeling, Complex networks, Analytical models, Layout, Human computer interaction, affective state, virtual reality, augmented reality, layout algorithm, complex network, big data, cognitive visualization', 'Context, Clustering algorithms, Markov processes, Semantics, Pragmatics, Facebook, Filtering, Unstructured data, Structured Data, Data Context, Usage patterns, Hadoop', 'Payloads, Telecommunication traffic, Ports (Computers), Internet, Servers, Distributed databases, Hadoop, Payload, Traffic, Distribute, Signature', 'Accuracy, Training, Convergence, Fasteners, Vectors, Complexity theory, Covariance matrices, Supervised Classification, Calibrated risks, Boosting, Stochastic Newton Method, Bigdata, Large Scale']\n"
     ]
    }
   ],
   "source": [
    "lista_coluna = []\n",
    "for item in new_df['keywords'].values:\n",
    "    #print(item)\n",
    "    keywords_itens = \"\"\n",
    "    for val in item.values():\n",
    "        for key2, val2 in val.items():\n",
    "            for item2 in val2:\n",
    "                keywords_itens = keywords_itens + item2 + \", \"\n",
    "                \n",
    "    keywords_itens = keywords_itens[0:-2] \n",
    "    lista_coluna.append(keywords_itens)\n",
    "print(lista_coluna)\n",
    "new_df['keywords'] = lista_coluna\n"
   ]
  },
  {
   "cell_type": "code",
   "execution_count": 66,
   "id": "9ed64f4c",
   "metadata": {},
   "outputs": [
    {
     "name": "stdout",
     "output_type": "stream",
     "text": [
      "Hao Hu, Kai Lu, Gen Li, Xiaoping Wang, Tianye Xu\n",
      "Gordon Lee, Elisa Bertino, Stuart Rubin, Taghi M. Khoshgoftaar, Bhavani Thuraisingham, James McCaffrey\n",
      "Michael Yu\n",
      "Quang Tran, Hiroyuki Sato\n",
      "Mihaela-Catalina Nita, Cristian Chilipirea, Ciprian Dobre, Florin Pop\n",
      "Eiko Kai, Ashir Ahmed\n",
      "Trung Q. Le, Changqing Cheng, Akkarapol Sangasoongsong, Woranat Wongdhamma, Satish T. S. Bukkapatnam\n",
      "Ashir Ahmed, Lutfe Kabir, Eiko Kai, Sozo Inoue\n",
      "Toshimori Honjo, Kazuki Oikawa\n",
      "Shinichi Yamagiwa, Hiroshi Sakamoto\n",
      "Marcelo Costa Oliveira, José Raniery Ferreira\n",
      "S. Ramamoorthy, S. Rajalakshmi\n",
      "Vikas Goyal, Chander Kant\n",
      "Haoting Liu, Wei Wang, Lu Wang, Lianjie Shan, Feng Gao\n",
      "Victoria Lopez, Sara del Rio, Jose Manuel Benitez, Francisco Herrera\n",
      "Nikolaos Chrysos, Mitch Gusat, Fredy Neeser, Cyriel Minkenberg, Wolfgang Denzel, Claude Basso\n",
      "Amrit Pal, Sanjay Agrawal\n",
      "Sungyong Ahn, Sangkyu Park, Jae-Ki Hong, Wooseok Chang\n",
      "Melyssa Barata, Jorge Bernardino, Pedro Furtado\n",
      "Lidice Garcia Rios, Jos'e Alberto Incera Diguez\n",
      "Peng Yue, Liangcun Jiang\n",
      "Sergey V. Kovalchuk, Aleksey A. Bezgodov, Denis M. Terekhov, Alexander V. Boukhanovsky\n",
      "T K Ashwin Kumar, Hong Liu, Johnson P Thomas\n",
      "Kyu-Seok Shim, Su-Kang Lee, Myung-Sup Kim\n",
      "Roberto D'Ambrosio, Wafa Belhajali, Michel Barlaud\n"
     ]
    }
   ],
   "source": [
    "lista_coluna = []\n",
    "for item in new_df['author'].values:\n",
    "    for val in item.values(): \n",
    "        authors_names = \"\"\n",
    "        for item2 in val:\n",
    "            for key2,val2 in item2.items():\n",
    "                if key2 == \"full_name\":\n",
    "                    authors_names = authors_names + val2 + \", \"\n",
    "                    #print(authors_names)\n",
    "        \n",
    "        authors_names = authors_names[0:-2] \n",
    "        #lista_linha.append(authors_names)\n",
    "        lista_coluna.append(authors_names)\n",
    "        print(authors_names)\n",
    "\n",
    "new_df['author'] = lista_coluna"
   ]
  },
  {
   "cell_type": "code",
   "execution_count": 67,
   "id": "c7d7ebc2",
   "metadata": {},
   "outputs": [
    {
     "data": {
      "text/html": [
       "<div>\n",
       "<style scoped>\n",
       "    .dataframe tbody tr th:only-of-type {\n",
       "        vertical-align: middle;\n",
       "    }\n",
       "\n",
       "    .dataframe tbody tr th {\n",
       "        vertical-align: top;\n",
       "    }\n",
       "\n",
       "    .dataframe thead th {\n",
       "        text-align: right;\n",
       "    }\n",
       "</style>\n",
       "<table border=\"1\" class=\"dataframe\">\n",
       "  <thead>\n",
       "    <tr style=\"text-align: right;\">\n",
       "      <th></th>\n",
       "      <th>author</th>\n",
       "      <th>title</th>\n",
       "      <th>keywords</th>\n",
       "      <th>abstract</th>\n",
       "      <th>year</th>\n",
       "      <th>type_publication</th>\n",
       "      <th>doi</th>\n",
       "    </tr>\n",
       "  </thead>\n",
       "  <tbody>\n",
       "    <tr>\n",
       "      <th>0</th>\n",
       "      <td>Hao Hu, Kai Lu, Gen Li, Xiaoping Wang, Tianye Xu</td>\n",
       "      <td>CAAC: A Key-Value Database Performance Boostin...</td>\n",
       "      <td>Databases, Acceleration, Compaction, Servers, ...</td>\n",
       "      <td>NoSQL database is deemed as an ideal substitut...</td>\n",
       "      <td>2012</td>\n",
       "      <td>Conferences</td>\n",
       "      <td>10.1109/ICCIS.2012.97</td>\n",
       "    </tr>\n",
       "    <tr>\n",
       "      <th>1</th>\n",
       "      <td>Gordon Lee, Elisa Bertino, Stuart Rubin, Taghi...</td>\n",
       "      <td>Panel: Using information re-use and integratio...</td>\n",
       "      <td></td>\n",
       "      <td>More advanced and complex applications in soci...</td>\n",
       "      <td>2012</td>\n",
       "      <td>Conferences</td>\n",
       "      <td>10.1109/IRI.2012.6302976</td>\n",
       "    </tr>\n",
       "  </tbody>\n",
       "</table>\n",
       "</div>"
      ],
      "text/plain": [
       "                                              author  \\\n",
       "0   Hao Hu, Kai Lu, Gen Li, Xiaoping Wang, Tianye Xu   \n",
       "1  Gordon Lee, Elisa Bertino, Stuart Rubin, Taghi...   \n",
       "\n",
       "                                               title  \\\n",
       "0  CAAC: A Key-Value Database Performance Boostin...   \n",
       "1  Panel: Using information re-use and integratio...   \n",
       "\n",
       "                                            keywords  \\\n",
       "0  Databases, Acceleration, Compaction, Servers, ...   \n",
       "1                                                      \n",
       "\n",
       "                                            abstract  year type_publication  \\\n",
       "0  NoSQL database is deemed as an ideal substitut...  2012      Conferences   \n",
       "1  More advanced and complex applications in soci...  2012      Conferences   \n",
       "\n",
       "                        doi  \n",
       "0     10.1109/ICCIS.2012.97  \n",
       "1  10.1109/IRI.2012.6302976  "
      ]
     },
     "execution_count": 67,
     "metadata": {},
     "output_type": "execute_result"
    }
   ],
   "source": [
    "new_df.head(2)\n",
    "\n",
    "  "
   ]
  },
  {
   "cell_type": "code",
   "execution_count": null,
   "id": "0a1862b3",
   "metadata": {},
   "outputs": [],
   "source": [
    "print(columns_aula4)"
   ]
  },
  {
   "cell_type": "code",
   "execution_count": null,
   "id": "6b70da80",
   "metadata": {},
   "outputs": [],
   "source": [
    "#loop dict\n",
    "dados_ieee = res.json()\n",
    "for key,val in dados_ieee.items():\n",
    "    print(key,  val)"
   ]
  },
  {
   "cell_type": "code",
   "execution_count": null,
   "id": "bb5f826f",
   "metadata": {},
   "outputs": [],
   "source": [
    "new_df.head(5)"
   ]
  },
  {
   "cell_type": "code",
   "execution_count": null,
   "id": "e5926a4e",
   "metadata": {},
   "outputs": [],
   "source": []
  },
  {
   "cell_type": "code",
   "execution_count": null,
   "id": "d2982d58",
   "metadata": {},
   "outputs": [],
   "source": [
    "df3 = pd.DataFrame(new_df.author)\n",
    "df3.head(2)\n"
   ]
  },
  {
   "cell_type": "code",
   "execution_count": null,
   "id": "3ebf35cc",
   "metadata": {},
   "outputs": [],
   "source": []
  },
  {
   "cell_type": "code",
   "execution_count": null,
   "id": "dd5309c3",
   "metadata": {},
   "outputs": [],
   "source": [
    "for item in new_df.columns:\n",
    "    tipo = str(type(new_df[item][0]))\n",
    "    print(tipo)\n",
    "    if tipo == 'dict':\n",
    "        print(\"ok\")\n",
    "    "
   ]
  },
  {
   "cell_type": "code",
   "execution_count": null,
   "id": "4c1697c2",
   "metadata": {},
   "outputs": [],
   "source": [
    "print(df.to_json(orient ='split'))"
   ]
  },
  {
   "cell_type": "code",
   "execution_count": null,
   "id": "d5e00aca",
   "metadata": {},
   "outputs": [],
   "source": [
    "for item in df.columns:\n",
    "    print(type(df[item]))"
   ]
  },
  {
   "cell_type": "code",
   "execution_count": null,
   "id": "00fa2a3b",
   "metadata": {},
   "outputs": [],
   "source": [
    "for item in articles:\n",
    "    print(item)"
   ]
  }
 ],
 "metadata": {
  "interpreter": {
   "hash": "02f339d37a032b49f4b21666e9e97e0730e536bc61fd3789dbbed5034fa0d395"
  },
  "kernelspec": {
   "display_name": "Python 3",
   "language": "python",
   "name": "python3"
  },
  "language_info": {
   "codemirror_mode": {
    "name": "ipython",
    "version": 3
   },
   "file_extension": ".py",
   "mimetype": "text/x-python",
   "name": "python",
   "nbconvert_exporter": "python",
   "pygments_lexer": "ipython3",
   "version": "3.8.8"
  }
 },
 "nbformat": 4,
 "nbformat_minor": 5
}
