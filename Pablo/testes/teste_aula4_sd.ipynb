{
 "cells": [
  {
   "cell_type": "code",
   "execution_count": 1,
   "id": "6535efbd",
   "metadata": {},
   "outputs": [],
   "source": [
    "import requests\n",
    "import pandas as pd\n",
    "import json\n",
    "from config.config import *\n",
    "from library import * "
   ]
  },
  {
   "cell_type": "code",
   "execution_count": 54,
   "id": "68fe0ec1",
   "metadata": {},
   "outputs": [],
   "source": [
    "api = \"https://api.elsevier.com/content/search/sciencedirect?query=bigdata&apiKey=7f59af901d2d86f78a1fd60c1bf9426a&count=50&startPage=10\"\n",
    "#api1 = \"https://api.elsevier.com/content/search/sciencedirect?query=bigdata&apiKey=e93680b6112f0f801bbd758197aa5cce&count=50\"\n",
    "\n",
    "res = requests.get(api)"
   ]
  },
  {
   "cell_type": "code",
   "execution_count": 55,
   "id": "cad7a1e4",
   "metadata": {},
   "outputs": [],
   "source": [
    "#if res.status_code == 200:\n",
    "dados_sd = res.json()"
   ]
  },
  {
   "cell_type": "code",
   "execution_count": 56,
   "id": "cf9cc809",
   "metadata": {},
   "outputs": [
    {
     "name": "stdout",
     "output_type": "stream",
     "text": [
      "832\n"
     ]
    }
   ],
   "source": [
    "print(dados_sd[\"search-results\"][\"opensearch:totalResults\"])"
   ]
  },
  {
   "cell_type": "code",
   "execution_count": 57,
   "id": "919ee155",
   "metadata": {},
   "outputs": [],
   "source": [
    "articles = dados_sd[\"search-results\"][\"entry\"]"
   ]
  },
  {
   "cell_type": "code",
   "execution_count": 58,
   "id": "123a62cd",
   "metadata": {},
   "outputs": [
    {
     "data": {
      "text/html": [
       "<div>\n",
       "<style scoped>\n",
       "    .dataframe tbody tr th:only-of-type {\n",
       "        vertical-align: middle;\n",
       "    }\n",
       "\n",
       "    .dataframe tbody tr th {\n",
       "        vertical-align: top;\n",
       "    }\n",
       "\n",
       "    .dataframe thead th {\n",
       "        text-align: right;\n",
       "    }\n",
       "</style>\n",
       "<table border=\"1\" class=\"dataframe\">\n",
       "  <thead>\n",
       "    <tr style=\"text-align: right;\">\n",
       "      <th></th>\n",
       "      <th>@_fa</th>\n",
       "      <th>load-date</th>\n",
       "      <th>link</th>\n",
       "      <th>dc:identifier</th>\n",
       "      <th>prism:url</th>\n",
       "      <th>dc:title</th>\n",
       "      <th>dc:creator</th>\n",
       "      <th>prism:publicationName</th>\n",
       "      <th>prism:volume</th>\n",
       "      <th>prism:coverDate</th>\n",
       "      <th>prism:startingPage</th>\n",
       "      <th>prism:doi</th>\n",
       "      <th>openaccess</th>\n",
       "      <th>pii</th>\n",
       "      <th>authors</th>\n",
       "      <th>prism:endingPage</th>\n",
       "    </tr>\n",
       "  </thead>\n",
       "  <tbody>\n",
       "    <tr>\n",
       "      <th>0</th>\n",
       "      <td>true</td>\n",
       "      <td>2021-06-22T00:00:00.000Z</td>\n",
       "      <td>[{'@_fa': 'true', '@ref': 'self', '@href': 'ht...</td>\n",
       "      <td>DOI:10.1016/j.jclepro.2021.128028</td>\n",
       "      <td>https://api.elsevier.com/content/article/pii/S...</td>\n",
       "      <td>A scalable platform for investigating the spac...</td>\n",
       "      <td>Junsoo Lee</td>\n",
       "      <td>Journal of Cleaner Production</td>\n",
       "      <td>314</td>\n",
       "      <td>2021-09-10</td>\n",
       "      <td>128028</td>\n",
       "      <td>10.1016/j.jclepro.2021.128028</td>\n",
       "      <td>False</td>\n",
       "      <td>S0959652621022460</td>\n",
       "      <td>{'author': [{'$': 'Junsoo Lee'}, {'$': 'Tae Wa...</td>\n",
       "      <td>NaN</td>\n",
       "    </tr>\n",
       "    <tr>\n",
       "      <th>1</th>\n",
       "      <td>true</td>\n",
       "      <td>2018-08-20T00:00:00.000Z</td>\n",
       "      <td>[{'@_fa': 'true', '@ref': 'self', '@href': 'ht...</td>\n",
       "      <td>DOI:10.1016/j.future.2018.08.021</td>\n",
       "      <td>https://api.elsevier.com/content/article/pii/S...</td>\n",
       "      <td>Bigdata logs analysis based on seq2seq network...</td>\n",
       "      <td>Pin Wu</td>\n",
       "      <td>Future Generation Computer Systems</td>\n",
       "      <td>90</td>\n",
       "      <td>2019-01-31</td>\n",
       "      <td>477</td>\n",
       "      <td>10.1016/j.future.2018.08.021</td>\n",
       "      <td>False</td>\n",
       "      <td>S0167739X18309233</td>\n",
       "      <td>{'author': [{'$': 'Pin Wu'}, {'$': 'Zhihui Lu'...</td>\n",
       "      <td>488</td>\n",
       "    </tr>\n",
       "  </tbody>\n",
       "</table>\n",
       "</div>"
      ],
      "text/plain": [
       "   @_fa                 load-date  \\\n",
       "0  true  2021-06-22T00:00:00.000Z   \n",
       "1  true  2018-08-20T00:00:00.000Z   \n",
       "\n",
       "                                                link  \\\n",
       "0  [{'@_fa': 'true', '@ref': 'self', '@href': 'ht...   \n",
       "1  [{'@_fa': 'true', '@ref': 'self', '@href': 'ht...   \n",
       "\n",
       "                       dc:identifier  \\\n",
       "0  DOI:10.1016/j.jclepro.2021.128028   \n",
       "1   DOI:10.1016/j.future.2018.08.021   \n",
       "\n",
       "                                           prism:url  \\\n",
       "0  https://api.elsevier.com/content/article/pii/S...   \n",
       "1  https://api.elsevier.com/content/article/pii/S...   \n",
       "\n",
       "                                            dc:title  dc:creator  \\\n",
       "0  A scalable platform for investigating the spac...  Junsoo Lee   \n",
       "1  Bigdata logs analysis based on seq2seq network...      Pin Wu   \n",
       "\n",
       "                prism:publicationName prism:volume prism:coverDate  \\\n",
       "0       Journal of Cleaner Production          314      2021-09-10   \n",
       "1  Future Generation Computer Systems           90      2019-01-31   \n",
       "\n",
       "  prism:startingPage                      prism:doi  openaccess  \\\n",
       "0             128028  10.1016/j.jclepro.2021.128028       False   \n",
       "1                477   10.1016/j.future.2018.08.021       False   \n",
       "\n",
       "                 pii                                            authors  \\\n",
       "0  S0959652621022460  {'author': [{'$': 'Junsoo Lee'}, {'$': 'Tae Wa...   \n",
       "1  S0167739X18309233  {'author': [{'$': 'Pin Wu'}, {'$': 'Zhihui Lu'...   \n",
       "\n",
       "  prism:endingPage  \n",
       "0              NaN  \n",
       "1              488  "
      ]
     },
     "execution_count": 58,
     "metadata": {},
     "output_type": "execute_result"
    }
   ],
   "source": [
    "df_articles = pd.DataFrame(articles)\n",
    "df_articles.head(2)"
   ]
  },
  {
   "cell_type": "code",
   "execution_count": null,
   "id": "af5c906b",
   "metadata": {},
   "outputs": [],
   "source": [
    "new_df = select_col(df_articles, columns_aula4)\n",
    "new_df.head(2)\n",
    "  "
   ]
  },
  {
   "cell_type": "code",
   "execution_count": null,
   "id": "698e425e",
   "metadata": {},
   "outputs": [],
   "source": [
    "lista_coluna = []\n",
    "for item in new_df['keywords'].values:\n",
    "    #print(item)\n",
    "    keywords_itens = \"\"\n",
    "    for val in item.values():\n",
    "        for key2, val2 in val.items():\n",
    "            for item2 in val2:\n",
    "                keywords_itens = keywords_itens + item2 + \", \"\n",
    "                \n",
    "    keywords_itens = keywords_itens[0:-2] \n",
    "    lista_coluna.append(keywords_itens)\n",
    "print(lista_coluna)\n",
    "new_df['keywords'] = lista_coluna\n"
   ]
  },
  {
   "cell_type": "code",
   "execution_count": null,
   "id": "9ed64f4c",
   "metadata": {},
   "outputs": [],
   "source": [
    "lista_coluna = []\n",
    "for item in new_df['author'].values:\n",
    "    for val in item.values(): \n",
    "        authors_names = \"\"\n",
    "        for item2 in val:\n",
    "            for key2,val2 in item2.items():\n",
    "                if key2 == \"full_name\":\n",
    "                    authors_names = authors_names + val2 + \", \"\n",
    "                    #print(authors_names)\n",
    "        \n",
    "        authors_names = authors_names[0:-2] \n",
    "        #lista_linha.append(authors_names)\n",
    "        lista_coluna.append(authors_names)\n",
    "        print(authors_names)\n",
    "\n",
    "new_df['author'] = lista_coluna"
   ]
  },
  {
   "cell_type": "code",
   "execution_count": null,
   "id": "c7d7ebc2",
   "metadata": {},
   "outputs": [],
   "source": [
    "new_df.head(2)\n",
    "\n",
    "  "
   ]
  },
  {
   "cell_type": "code",
   "execution_count": null,
   "id": "0a1862b3",
   "metadata": {},
   "outputs": [],
   "source": [
    "print(columns_aula4)"
   ]
  },
  {
   "cell_type": "code",
   "execution_count": null,
   "id": "6b70da80",
   "metadata": {},
   "outputs": [],
   "source": [
    "#loop dict\n",
    "dados_ieee = res.json()\n",
    "for key,val in dados_ieee.items():\n",
    "    print(key,  val)"
   ]
  },
  {
   "cell_type": "code",
   "execution_count": null,
   "id": "bb5f826f",
   "metadata": {},
   "outputs": [],
   "source": [
    "new_df.head(5)"
   ]
  },
  {
   "cell_type": "code",
   "execution_count": null,
   "id": "e5926a4e",
   "metadata": {},
   "outputs": [],
   "source": []
  },
  {
   "cell_type": "code",
   "execution_count": null,
   "id": "d2982d58",
   "metadata": {},
   "outputs": [],
   "source": [
    "df3 = pd.DataFrame(new_df.author)\n",
    "df3.head(2)\n"
   ]
  },
  {
   "cell_type": "code",
   "execution_count": null,
   "id": "3ebf35cc",
   "metadata": {},
   "outputs": [],
   "source": []
  },
  {
   "cell_type": "code",
   "execution_count": null,
   "id": "dd5309c3",
   "metadata": {},
   "outputs": [],
   "source": [
    "for item in new_df.columns:\n",
    "    tipo = str(type(new_df[item][0]))\n",
    "    print(tipo)\n",
    "    if tipo == 'dict':\n",
    "        print(\"ok\")\n",
    "    "
   ]
  },
  {
   "cell_type": "code",
   "execution_count": null,
   "id": "4c1697c2",
   "metadata": {},
   "outputs": [],
   "source": [
    "print(df.to_json(orient ='split'))"
   ]
  },
  {
   "cell_type": "code",
   "execution_count": null,
   "id": "d5e00aca",
   "metadata": {},
   "outputs": [],
   "source": [
    "for item in df.columns:\n",
    "    print(type(df[item]))"
   ]
  },
  {
   "cell_type": "code",
   "execution_count": null,
   "id": "00fa2a3b",
   "metadata": {},
   "outputs": [],
   "source": [
    "for item in articles:\n",
    "    print(item)"
   ]
  }
 ],
 "metadata": {
  "interpreter": {
   "hash": "02f339d37a032b49f4b21666e9e97e0730e536bc61fd3789dbbed5034fa0d395"
  },
  "kernelspec": {
   "display_name": "Python 3",
   "language": "python",
   "name": "python3"
  },
  "language_info": {
   "codemirror_mode": {
    "name": "ipython",
    "version": 3
   },
   "file_extension": ".py",
   "mimetype": "text/x-python",
   "name": "python",
   "nbconvert_exporter": "python",
   "pygments_lexer": "ipython3",
   "version": "3.8.8"
  }
 },
 "nbformat": 4,
 "nbformat_minor": 5
}
