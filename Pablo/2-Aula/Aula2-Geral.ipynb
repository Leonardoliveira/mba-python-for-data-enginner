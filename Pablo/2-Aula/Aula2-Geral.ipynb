{
 "cells": [
  {
   "cell_type": "code",
   "execution_count": null,
   "metadata": {},
   "outputs": [],
   "source": [
    "import os\n",
    "import bibtexparser \n",
    "import pandas as pd\n",
    "import numpy as np\n",
    "import yaml "
   ]
  },
  {
   "cell_type": "code",
   "execution_count": null,
   "metadata": {},
   "outputs": [],
   "source": [
    "# parametrsos globais\n",
    "entrada = \"input/\"\n",
    "saida = \"output/\"\n",
    "\n",
    "# criando um lista com as colunas do escopo do projeto\n",
    "col_types = [[\"author\"] ,[\"title\"],[\"keywords\"],[\"abstract\"],[\"year\"],\n",
    "                 [\"type_publication\",\"ENTRYTYPE\"],[\"doi\"]]"
   ]
  },
  {
   "cell_type": "code",
   "execution_count": null,
   "metadata": {},
   "outputs": [],
   "source": [
    "# carregando os arquivos da pasta entrada\n",
    "dir_list = os.listdir(entrada)\n",
    "files = []\n",
    "\n",
    "for item in dir_list:  \n",
    "    \n",
    "    if '.BIB' not in item.upper():\n",
    "        continue\n",
    "        \n",
    "    files.append(item)\n",
    "    "
   ]
  },
  {
   "cell_type": "code",
   "execution_count": null,
   "metadata": {},
   "outputs": [],
   "source": [
    "## fazer a leitura de todos os arquivos\n",
    "# criando um DF em branco para armazenar todos os arquivos\n",
    "df_final = pd.DataFrame()\n",
    "\n",
    "for file in files:\n",
    "    \n",
    "    ################################################################\n",
    "    # iniciando a leitura do arquivo\n",
    "    with open(entrada + file, encoding = \"utf_8\" ) as bibtex_file:\n",
    "        \n",
    "        bib_database = bibtexparser.load(bibtex_file)\n",
    "        \n",
    "        \n",
    "        # convertendo o conteudo do arquivo para DF\n",
    "        df = pd.DataFrame(bib_database.entries)\n",
    "\n",
    "        #df.drop(0, inplace=True)\n",
    "        del df[\"author\"]\n",
    "\n",
    "        ###############################################\n",
    "\n",
    "    ################################################################################\n",
    "    ## padronizando colunas\n",
    "    # criando DF em branco para receber as colunas selecionadas do arquivo da vez\n",
    "    new_df = pd.DataFrame()\n",
    "\n",
    "    # interar lista de todos os tipos de colunas\n",
    "    for col_type in col_types:\n",
    "\n",
    "        # interar uma lista de um tipo de coluna apenas\n",
    "        for col in col_type:\n",
    "            \n",
    "            # verificar se um item do tipo existe no DF\n",
    "            if col in df.columns:\n",
    "                # se existir criar um nova coluna no new_DF com o rótulo do primeiro item da lista do tipo da coluna\n",
    "                new_df[col_type[0]] = df[col]\n",
    "                break\n",
    "            else:\n",
    "                # se a coluna não existir então verificar se é a última coluna da lista do tipo\n",
    "                # isso significa que não existe a coluna no DF, então criar um coluna com o rótulo do primeiro item \n",
    "                # com conteúdo em branco\n",
    "                if col == col_type[-1]:\n",
    "                    new_df[col_type[0]] = np.NaN    \n",
    "\n",
    "    new_df[\"file\"] = file\n",
    "    ############################################\n",
    "        \n",
    "    # concatenando df \n",
    "    df_final = pd.concat([df_final, new_df]) \n",
    "\n",
    "df_final "
   ]
  },
  {
   "cell_type": "code",
   "execution_count": null,
   "metadata": {},
   "outputs": [],
   "source": [
    "# carregando a configuração do formato para exportação\n",
    "with open('config/config.yaml', 'r') as config:\n",
    "    formato = yaml.load(config, Loader=yaml.FullLoader)[\"export_to\"]\n",
    "    print(formato)"
   ]
  },
  {
   "cell_type": "code",
   "execution_count": null,
   "metadata": {},
   "outputs": [],
   "source": [
    "arquivo_saida = saida + \"arquivo_final.\" + formato\n",
    "\n",
    "match formato:\n",
    "  case \"json\":\n",
    "    dados_arquivo = df_final.to_json(orient = \"table\")\n",
    "\n",
    "    with open(arquivo_saida, \"w\") as arquivo:\n",
    "      arquivo.write(dados_arquivo)\n",
    "\n",
    "  case \"csv\":\n",
    "    df_final.to_csv(arquivo_saida, sep = \";\", header = True)\n",
    "  \n",
    "  case \"yaml\":\n",
    "    dict_final = df_final.to_dict()\n",
    "\n",
    "    with open(arquivo_saida, 'w') as file:\n",
    "      yaml.dump(dict_final, file)"
   ]
  },
  {
   "cell_type": "code",
   "execution_count": null,
   "metadata": {},
   "outputs": [],
   "source": []
  }
 ],
 "metadata": {
  "kernelspec": {
   "display_name": "Python 3",
   "language": "python",
   "name": "python3"
  },
  "language_info": {
   "codemirror_mode": {
    "name": "ipython",
    "version": 3
   },
   "file_extension": ".py",
   "mimetype": "text/x-python",
   "name": "python",
   "nbconvert_exporter": "python",
   "pygments_lexer": "ipython3",
   "version": "3.10.4"
  }
 },
 "nbformat": 4,
 "nbformat_minor": 4
}
