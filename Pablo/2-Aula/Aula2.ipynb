{
 "cells": [
  {
   "cell_type": "markdown",
   "metadata": {},
   "source": [
    "## Apresentando a Solução \n"
   ]
  },
  {
   "cell_type": "code",
   "execution_count": 20,
   "metadata": {},
   "outputs": [],
   "source": [
    "import os\n",
    "import bibtexparser\n",
    "import pandas as pd\n",
    "import numpy as np\n",
    "import yaml"
   ]
  },
  {
   "cell_type": "markdown",
   "metadata": {},
   "source": [
    "### Definições de funções"
   ]
  },
  {
   "cell_type": "code",
   "execution_count": null,
   "metadata": {},
   "outputs": [],
   "source": [
    "# Função para criar um lista dos arquivos BibTex existentes no diretório de entrada \n",
    "def get_files(dir): \n",
    "    \n",
    "    # carregando os arquivos da pasta entrada\n",
    "    dir_list = os.listdir(dir)\n",
    "    files_list = []\n",
    "    \n",
    "    for file in dir_list:\n",
    "    \n",
    "        # validar se o arquivo do diretório possui a extensao .bib\n",
    "        if '.BIB' not in file.upper():\n",
    "            continue\n",
    "\n",
    "        files_list.append(file)\n",
    "    \n",
    "    return files_list"
   ]
  },
  {
   "cell_type": "code",
   "execution_count": null,
   "metadata": {},
   "outputs": [],
   "source": [
    "# função para carregar o arquivo em um DF\n",
    "def read_file(dir, file):\n",
    "    \n",
    "    with open(dir + file, encoding = \"utf_8\" ) as bibtex_file:\n",
    "        \n",
    "        bib_database = bibtexparser.load(bibtex_file)\n",
    "        \n",
    "        # retornando um DF do arquivo \n",
    "        df = pd.DataFrame(bib_database.entries)\n",
    "\n",
    "    return df"
   ]
  },
  {
   "cell_type": "code",
   "execution_count": null,
   "metadata": {},
   "outputs": [],
   "source": [
    "# Função para criar um novo DF com as colunas do escopo baseado no DF Geral\n",
    "def select_col(df_geral):\n",
    "    \n",
    "    # criando um lista com as colunas do escopo do projeto\n",
    "    col_types = [[\"author\"],[\"title\"],[\"keywords\"],[\"abstract\"],[\"year\"],\n",
    "                 [\"type_publication\",\"ENTRYTYPE\"],[\"doi\"]]\n",
    "    \n",
    "    new_df = pd.DataFrame()\n",
    "\n",
    "    # interar lista de todos os tipos de colunas\n",
    "    for col_type in col_types:\n",
    "\n",
    "        # interar uma lista de um tipo de coluna apenas\n",
    "        for col in col_type:\n",
    "\n",
    "            # verificar se um item do tipo existe no DF\n",
    "            if col in df_geral.columns:\n",
    "                # se existir criar um nova coluna no new_DF com o rótulo do primeiro item da lista do tipo da coluna\n",
    "                new_df[col_type[0]] = df_geral[col]\n",
    "                break\n",
    "            else:\n",
    "                # se a coluna não existir então verificar se é a última coluna da lista do tipo\n",
    "                # isso significa que não existe a coluna no DF, então criar um coluna com o rótulo do primeiro item \n",
    "                # com conteúdo em branco\n",
    "                if col == col_type[-1]:\n",
    "                    new_df[col_type[0]] = np.nan\n",
    "\n",
    "    return new_df"
   ]
  },
  {
   "cell_type": "code",
   "execution_count": null,
   "metadata": {},
   "outputs": [],
   "source": [
    "# funcao para ler o parametro \"export_to\" setado no arquivo externo YAML\n",
    "def get_config_export(parameter):\n",
    "\n",
    "  with open('config/config.yaml', 'r') as config:\n",
    "    valor_parametro = yaml.load(config, Loader=yaml.FullLoader)[parameter]\n",
    "\n",
    "  return valor_parametro    "
   ]
  },
  {
   "cell_type": "code",
   "execution_count": null,
   "metadata": {},
   "outputs": [],
   "source": [
    "# funcao para gerar um arquivo texto no formato dedinido no arquivo de configuração\n",
    "def gerar_arquivo(formato, df_final, saida):\n",
    "\n",
    "  arquivo_saida = saida + \"arquivo_final.\" + formato\n",
    "\n",
    "  match formato:\n",
    "    case \"json\":\n",
    "      dados_arquivo = df_final.to_json(orient = \"table\")\n",
    "\n",
    "      with open(arquivo_saida, \"w\") as arquivo:\n",
    "        arquivo.write(dados_arquivo)\n",
    "\n",
    "    case \"csv\":\n",
    "      df_final.to_csv(arquivo_saida, sep = \";\", header = True)\n",
    "  \n",
    "    case \"yaml\":\n",
    "      dict_final = df_final.to_dict()\n",
    "\n",
    "      with open(arquivo_saida, 'w') as file:\n",
    "        yaml.dump(dict_final, file)\n",
    "  "
   ]
  },
  {
   "cell_type": "markdown",
   "metadata": {},
   "source": [
    "# Código principal"
   ]
  },
  {
   "cell_type": "code",
   "execution_count": null,
   "metadata": {},
   "outputs": [],
   "source": [
    "# definições globais\n",
    "entrada = \"input/\"\n",
    "saida = \"output/\"\n",
    "\n",
    "# carregando a lista de arquivos de dados\n",
    "files = get_files(entrada)\n",
    "\n",
    "# criando um DF em branco para armazenar todos os arquivos\n",
    "df_final = pd.DataFrame()\n",
    "\n",
    "# para cada arquivo repetir\n",
    "for file in files:\n",
    "    \n",
    "    # carregando dados do arquivo para um DF\n",
    "    df_geral = read_file(entrada, file)\n",
    "    \n",
    "    print(\"\\nArquivo {} carregado: {} linhas e {} colunas\"\n",
    "    .format(file, df_geral.shape[0], df_geral.shape[1] ))\n",
    "    \n",
    "    # criando um novo DF selecionando colunas\n",
    "    new_df = select_col(df_geral)\n",
    "    print(\"Novo DF criado, dimensões: {}\".format(new_df.shape))\n",
    "    \n",
    "    # concatendando cada novo DF no DF Final\n",
    "    df_final = pd.concat([df_final, new_df]) \n",
    "    print(\"DF Final {}\".format(df_final.shape))\n",
    "\n",
    "# ler configuracao em arquivo externo para pegar o valor da tag export_to\n",
    "formato = get_config_export(\"export_to\")\n",
    "\n",
    "# gerar arquivo final no formato configurado\n",
    "gerar_arquivo(formato, df_final, saida)\n",
    "print(\"\\nArquivo exportado no formato {} e disponivel na pasta {}\".format(formato, saida))\n",
    "  "
   ]
  }
 ],
 "metadata": {
  "interpreter": {
   "hash": "1883cbe3847a20784f6a859e9023809d95d38d494d0f0b72462383d6b3527ee4"
  },
  "kernelspec": {
   "display_name": "Python 3.10.4 64-bit",
   "language": "python",
   "name": "python3"
  },
  "language_info": {
   "codemirror_mode": {
    "name": "ipython",
    "version": 3
   },
   "file_extension": ".py",
   "mimetype": "text/x-python",
   "name": "python",
   "nbconvert_exporter": "python",
   "pygments_lexer": "ipython3",
   "version": "3.10.4"
  }
 },
 "nbformat": 4,
 "nbformat_minor": 4
}
